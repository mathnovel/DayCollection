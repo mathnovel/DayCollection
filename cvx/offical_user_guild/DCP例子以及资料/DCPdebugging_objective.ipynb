{
 "metadata": {
  "name": "",
  "signature": "sha256:985eecf19ba0222b4ddd21d85cb036f7d9f7a7034e5c728f43b645208a603e6f"
 },
 "nbformat": 3,
 "nbformat_minor": 0,
 "worksheets": [
  {
   "cells": [
    {
     "cell_type": "heading",
     "level": 2,
     "metadata": {},
     "source": [
      "Dealing with DCP Errors"
     ]
    },
    {
     "cell_type": "markdown",
     "metadata": {},
     "source": [
      "Created by David Stonestrom 6/4/2014.\n",
      "\n",
      "<br><br>\n",
      "The purpose of this document is to walk through the debugging process for DCP errors in CVXPY with a very simple problem.  \n",
      "\n",
      "<br>Problem Statement:<br>\n",
      "$$\\textbf{minimize } f\\left(x\\right) = \\sqrt{1 + ax^2} - \\frac{x}{4}$$ \n",
      "\n",
      "with no constraints. Note: the optimization variable $x$ is a scalar and the parameter $a \\geq 0$ is problem data.  The first attempt is to just type it in and press go."
     ]
    },
    {
     "cell_type": "code",
     "collapsed": false,
     "input": [
      "import cvxpy as cvx\n",
      "\n",
      "# toy problem: minimize [sqrt(1 + a*x^2) - x/4] with parameter a > 0\n",
      "x = cvx.Variable()\n",
      "a = cvx.Parameter(nonneg=True)\n",
      "\n",
      "a.value = 0.1; # Eventualy we might want a tradeoff curve for a, but that comes after we can solve at least one instance.\n",
      "\n",
      "# normaly, I don't bother giving the objective expression its own name until things go wrong, but I'll save us some time here.\n",
      "objectiveExpression = cvx.sqrt(1 + a * cvx.square(x)) - x / 4\n",
      "\n",
      "# instead I would just encode the objective function in this line\n",
      "objective = cvx.Minimize(objectiveExpression);\n",
      "\n",
      "# let's solve the problem:\n",
      "\n",
      "problem = cvx.Problem(objective)\n",
      "\n",
      "# Try solving the problem. Print error if any.\n",
      "try:\n",
      "    problem.solve()\n",
      "except Exception as e:\n",
      "    print e\n"
     ],
     "language": "python",
     "metadata": {},
     "outputs": [
      {
       "output_type": "stream",
       "stream": "stdout",
       "text": [
        "Problem does not follow DCP rules.\n"
       ]
      }
     ],
     "prompt_number": 1
    },
    {
     "cell_type": "heading",
     "level": 3,
     "metadata": {},
     "source": [
      "Diognosing the problem"
     ]
    },
    {
     "cell_type": "markdown",
     "metadata": {},
     "source": [
      "This is only easy to do with small funcitons, but I like to plot the functions which may be causing problems.  In this case the only function is the objective."
     ]
    },
    {
     "cell_type": "code",
     "collapsed": false,
     "input": [
      "import numpy, matplotlib.pyplot\n",
      "%matplotlib inline\n",
      "x = numpy.linspace(0,8,100)\n",
      "matplotlib.pyplot.plot(x, numpy.sqrt(1 + a.value * x**2) - x / 4)"
     ],
     "language": "python",
     "metadata": {},
     "outputs": [
      {
       "metadata": {},
       "output_type": "pyout",
       "prompt_number": 2,
       "text": [
        "[<matplotlib.lines.Line2D at 0x7f409b772e10>]"
       ]
      },
      {
       "metadata": {},
       "output_type": "display_data",
       "png": "[encoded data removed]",
       "text": [
        "<matplotlib.figure.Figure at 0x7f40bde72d10>"
       ]
      }
     ],
     "prompt_number": 2
    },
    {
     "cell_type": "markdown",
     "metadata": {},
     "source": [
      "Definitely looks convex, let's dig into the expression:"
     ]
    },
    {
     "cell_type": "code",
     "collapsed": false,
     "input": [
      "print(objective.is_dcp())\n",
      "print(objectiveExpression.curvature)"
     ],
     "language": "python",
     "metadata": {},
     "outputs": [
      {
       "output_type": "stream",
       "stream": "stdout",
       "text": [
        "False\n",
        "UNKNOWN\n"
       ]
      }
     ],
     "prompt_number": 3
    },
    {
     "cell_type": "markdown",
     "metadata": {},
     "source": [
      "Okay... why?  First, lets check that the parameters have signs specified.  Compare the declaration and results for a (defined above) and b."
     ]
    },
    {
     "cell_type": "code",
     "collapsed": false,
     "input": [
      "# a = cvx.Parameter(nonneg=True) # copied from above, sign is set here\n",
      "# a.value = 0.1; \n",
      "print \"a value: \", a.value, \"\\t a sign: \", a.sign\n",
      "\n",
      "# b is only included so you can see a common problem for DCP rules\n",
      "b = cvx.Parameter() # notice that sign is not set here\n",
      "b.value = 3\n",
      "print \"b value: \", b.value, \"\\t b sign: \", b.sign\n"
     ],
     "language": "python",
     "metadata": {},
     "outputs": [
      {
       "output_type": "stream",
       "stream": "stdout",
       "text": [
        "a value:  0.1 \t a sign:  POSITIVE\n",
        "b value:  3 \t b sign:  UNKNOWN\n"
       ]
      }
     ],
     "prompt_number": 4
    },
    {
     "cell_type": "markdown",
     "metadata": {},
     "source": [
      "If `a` could be negative (sign NEGATIVE or UNKNOWN), the expression could be non-convex (plot it with a = -1 if you want to check this).  \n",
      "\n",
      "\n",
      "\n",
      "Since that's not the problem, let's look at the objective expression next.  It first breaks apart at the '-'"
     ]
    },
    {
     "cell_type": "code",
     "collapsed": false,
     "input": [
      "x = cvx.Variable() # remember we changed x to linspace when plotting? now we want it back as a cvxpy variable\n",
      "\n",
      "# objectiveExpression = cvx.sqrt(1 + a * cvx.square(x)) - x / 4 # copied from above\n",
      "expression1 = cvx.sqrt(1 + a * cvx.square(x))\n",
      "expression2 = - x / 4\n",
      "print expression1.curvature\n",
      "print expression2.curvature\n"
     ],
     "language": "python",
     "metadata": {},
     "outputs": [
      {
       "output_type": "stream",
       "stream": "stdout",
       "text": [
        "UNKNOWN\n",
        "AFFINE\n"
       ]
      }
     ],
     "prompt_number": 5
    },
    {
     "cell_type": "markdown",
     "metadata": {},
     "source": [
      "So, expression1 is the problem.  The outermost function there is sqrt.  Its argument is $1 + a x^2$.  Note that $1 + ax^2$ is the function $+$ applied to arguments $1$ and $a x^2$, so its curvature depends on its monotonicity and the curvature of cvx.square(x)."
     ]
    },
    {
     "cell_type": "code",
     "collapsed": false,
     "input": [
      "print(\"cvx.sqrt:\")\n",
      "print \"curvature: \", cvx.sqrt(x).curvature # note that curvature is a property \n",
      "print \"monotonicity: \", cvx.sqrt(x).monotonicity() # but monotonicity() is a function\n",
      "\n",
      "expression3 = (1 + a * cvx.square(x))\n",
      "print \"\\nexpression3: \", expression3\n",
      "print \"curvature: \", expression3.curvature\n",
      "print \"monotonicity: \", expression3.monotonicity()\n",
      "\n",
      "print(\"\\na * cvx.square:\")\n",
      "print (a * cvx.square(x)).curvature"
     ],
     "language": "python",
     "metadata": {},
     "outputs": [
      {
       "output_type": "stream",
       "stream": "stdout",
       "text": [
        "cvx.sqrt:\n",
        "curvature:  CONCAVE\n",
        "monotonicity:  ['INCREASING']\n",
        "\n",
        "expression3:  1 + param1 * square(var3)\n",
        "curvature:  CONVEX\n",
        "monotonicity:  ['INCREASING', 'INCREASING']\n",
        "\n",
        "a * cvx.square:\n",
        "CONVEX\n"
       ]
      }
     ],
     "prompt_number": 6
    },
    {
     "cell_type": "markdown",
     "metadata": {},
     "source": [
      "Starting from the inside: expression3 is convex since it is an affine function and it is increasing on the constant argument '1' and increasing on the convex argument 'cvx.square.'\n",
      "\n",
      "\n",
      "Next we consider cvx.sqrt: It is an increasing function and the input is convex, so this seems good for convexity.  The problem is that sqrt is a concave function.  \n",
      "\n",
      "\n",
      "\n"
     ]
    },
    {
     "cell_type": "heading",
     "level": 3,
     "metadata": {},
     "source": [
      "Fixing the DCP error"
     ]
    },
    {
     "cell_type": "markdown",
     "metadata": {},
     "source": [
      "Since we're pretty confident that the overall function is convex, we should start looking for different phrasings of the problematic part of the objective that will be recognized as convex by the DCP ruleset.  \n",
      "\n",
      "$$\\sqrt{1 + a*x^2} = \\sqrt{1^2 + \\left(\\sqrt{a}*x\\right)^2} = \\left(1^2 + \\left(\\sqrt{a}*x\\right)^2\\right)^\\frac{1}{2} = \\left(\\left[\\begin{array}{ll} 1 & \\sqrt{a}*x\\end{array}\\right] \\left[\\begin{array}{c} 1 \\\\ \\sqrt{a}*x\\end{array}\\right]\\right)^\\frac{1}{2}$$\n",
      "\n",
      "\n",
      "\n",
      "Hopefully, one of these popped out to you as $\\left|\\left|\\left[\\begin{array}{c} 1 \\\\ \\sqrt{a}*x\\end{array}\\right]\\right|\\right|_{2}$. We can rewrite the objective to use this cvxpy defined norm, and fix the DCP issues."
     ]
    },
    {
     "cell_type": "code",
     "collapsed": false,
     "input": [
      "x = cvx.Variable(2) # note x is now a vector, x[0] will be constrained to 1 and x[1] will be x from the earlier attempt\n",
      "a = cvx.Parameter(nonneg=True)\n",
      "\n",
      "a.value = 0.1;\n",
      "\n",
      "#The following is one way of making the objective expression correct with the new vector x:\n",
      "import math\n",
      "b = cvx.Parameter(2,2,nonneg=True)\n",
      "b.value = numpy.array([[1, 0], [0, math.sqrt(a.value)]]) # for a == 1, b is the 2x2 identity\n",
      "\n",
      "# the 2-norm replaces the first big expression and x[1] replaces the scalar x\n",
      "objectiveExpression = cvx.norm(b*x, 2) - x[1] / 4 \n",
      "\n",
      "# this constraint forces x[0] to be 1, making the new problem match the origional.\n",
      "constraint = [x[0] == 1]\n",
      "\n",
      "\n",
      "# I prefer this  version where x[0] is constrained to be 1/sqrt(a), and the whole x vector is multiplied \n",
      "# by sqrt(a) before taking the norm. Note: the constant sqrt(a) can be pulled out of the norm expression.\n",
      "objectiveExpression = cvx.sqrt(a)*cvx.norm(x, 2) - x[1] / 4 # no need for the parameter b\n",
      "constraint = [x[0] == 1/cvx.sqrt(a)]\n",
      "\n",
      "# form objective\n",
      "objective = cvx.Minimize(objectiveExpression);\n",
      "problem = cvx.Problem(objective, constraint)\n",
      "print \"DCP rules test: \", problem.is_dcp()\n",
      "\n",
      "# and solve it\n",
      "try: \n",
      "    print \"solving... \"\n",
      "    problem.solve()\n",
      "except Exception as e:\n",
      "    print(e)\n",
      "\n",
      "# Print results.\n",
      "print problem.status\n",
      "print \"Optimal value: \", problem.value\n",
      "print \"Full variable x: \"\n",
      "print x.value\n",
      "print \"Origional optimization variable: x =\", x[1].value"
     ],
     "language": "python",
     "metadata": {},
     "outputs": [
      {
       "output_type": "stream",
       "stream": "stdout",
       "text": [
        "DCP rules test:  True\n",
        "solving... \n",
        "optimal\n",
        "Optimal value:  0.612372434091\n",
        "Full variable x: \n",
        "[[ 3.16227766]\n",
        " [ 4.08256597]]\n",
        "Origional optimization variable: x = 4.08256597129\n"
       ]
      }
     ],
     "prompt_number": 7
    },
    {
     "cell_type": "markdown",
     "metadata": {},
     "source": [
      "This is the happy outcome for DCP errors; the objective only needed to be restated with a cvxpy built-in function to make things work.  The unhappy outcome is that the problem is nonconvex and requires either relaxation or or reformulation to make cvxpy work on it.  We'll dive into this in later problems."
     ]
    }
   ],
   "metadata": {}
  }
 ]
}